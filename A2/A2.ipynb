{
 "cells": [
  {
   "cell_type": "code",
   "execution_count": 56,
   "id": "401ad63a",
   "metadata": {},
   "outputs": [],
   "source": [
    "%matplotlib inline\n",
    "import matplotlib.pyplot as plt\n",
    "import csv\n",
    "import numpy as np\n",
    "import pandas as pd\n",
    "#import mglearn\n",
    "import math\n",
    "from numpy import genfromtxt"
   ]
  },
  {
   "cell_type": "code",
   "execution_count": 2,
   "id": "cef6f557",
   "metadata": {},
   "outputs": [
    {
     "name": "stdout",
     "output_type": "stream",
     "text": [
      "[['1' '14.23' '1.71' ... '1.04' '3.92' '1065']\n",
      " ['1' '13.2' '1.78' ... '1.05' '3.4' '1050']\n",
      " ['1' '13.16' '2.36' ... '1.03' '3.17' '1185']\n",
      " ...\n",
      " ['3' '13.27' '4.28' ... '0.59' '1.56' '835']\n",
      " ['3' '13.17' '2.59' ... '0.6' '1.62' '840']\n",
      " ['3' '14.13' '4.1' ... '0.61' '1.6' '560']]\n",
      "Shape of wine data: (178, 14)\n",
      "['1' '1' '1' '1' '1' '1' '1' '1' '1' '1' '1' '1' '1' '1' '1' '1' '1' '1'\n",
      " '1' '1' '1' '1' '1' '1' '1' '1' '1' '1' '1' '1' '1' '1' '1' '1' '1' '1'\n",
      " '1' '1' '1' '1' '1' '1' '1' '1' '1' '1' '1' '1' '1' '1' '1' '1' '1' '1'\n",
      " '1' '1' '1' '1' '1' '2' '2' '2' '2' '2' '2' '2' '2' '2' '2' '2' '2' '2'\n",
      " '2' '2' '2' '2' '2' '2' '2' '2' '2' '2' '2' '2' '2' '2' '2' '2' '2' '2'\n",
      " '2' '2' '2' '2' '2' '2' '2' '2' '2' '2' '2' '2' '2' '2' '2' '2' '2' '2'\n",
      " '2' '2' '2' '2' '2' '2' '2' '2' '2' '2' '2' '2' '2' '2' '2' '2' '2' '2'\n",
      " '2' '2' '2' '2' '3' '3' '3' '3' '3' '3' '3' '3' '3' '3' '3' '3' '3' '3'\n",
      " '3' '3' '3' '3' '3' '3' '3' '3' '3' '3' '3' '3' '3' '3' '3' '3' '3' '3'\n",
      " '3' '3' '3' '3' '3' '3' '3' '3' '3' '3' '3' '3' '3' '3' '3' '3']\n",
      "Shape of wine target: (178,)\n",
      "wine feature names: ['Alcohol', 'Malic Acid', 'Ash', 'Alcalinity of ash', 'Magnesium', 'Total phenols', 'Flavanois', 'Nonflavanoid phenols', 'Proanthocyanins', 'Colr intensity', 'Hue', 'OD280/OD315 of diluted wines', 'Proline']\n",
      "Class\n",
      "wine.csv\n"
     ]
    }
   ],
   "source": [
    "class CSV_Data:\n",
    "   def __init__(self, data, target, feature_names, target_name, file_name):\n",
    "        self.data = data\n",
    "        self.target = target\n",
    "        self.feature_names = feature_names\n",
    "        self.target_name = target_name\n",
    "        self.file_name = file_name\n",
    "        \n",
    "\n",
    "def loadData(file_path):\n",
    "    data = []\n",
    "    target = []\n",
    "    feature_names = []\n",
    "    target_name = ''\n",
    "    file_name = file_path.split('\\\\')[-1]\n",
    "    with open(file_path) as data_file:\n",
    "        all_lines = [s[:-1] for s in data_file.readlines()]\n",
    "        feature_names = all_lines[0].split(',')[1:]\n",
    "        target_name = all_lines[0].split(',')[0]\n",
    "        for line in all_lines[1:]:\n",
    "            values = line.split(',')\n",
    "            target.append(values[0])\n",
    "            data.append([])\n",
    "            for val in values:\n",
    "                data[-1].append(val)\n",
    "    return CSV_Data(np.array(data, ndmin=2), np.array(target), feature_names, target_name, file_name)\n",
    "\n",
    "wine_data = loadData('Wine-A2\\wine.csv')\n",
    "print(wine_data.data)\n",
    "print(\"Shape of wine data:\",wine_data.data.shape)\n",
    "print(wine_data.target)\n",
    "print(\"Shape of wine target:\", wine_data.target.shape)\n",
    "print(\"wine feature names:\", wine_data.feature_names)\n",
    "print(wine_data.target_name)\n",
    "print(wine_data.file_name)"
   ]
  },
  {
   "cell_type": "code",
   "execution_count": 7,
   "id": "2ec0dc0a",
   "metadata": {},
   "outputs": [
    {
     "name": "stdout",
     "output_type": "stream",
     "text": [
      "Shape of wine data: (178, 14)\n",
      "Shape of wine target: (178,)\n",
      "wine feature names: ['Alcohol', 'Malic Acid', 'Ash', 'Alcalinity of ash', 'Magnesium', 'Total phenols', 'Flavanois', 'Nonflavanoid phenols', 'Proanthocyanins', 'Colr intensity', 'Hue', 'OD280/OD315 of diluted wines', 'Proline']\n"
     ]
    }
   ],
   "source": [
    "print(\"Shape of wine data:\", wine_data.data.shape)\n",
    "print(\"Shape of wine target:\", wine_data.target.shape)\n",
    "print(\"wine feature names:\", wine_data.feature_names)\n",
    "#print(\"Shape of wine target names:\", wine_data.target_names)\n",
    "#print(\"Shape of wine:\", wine_data.frame)"
   ]
  },
  {
   "cell_type": "code",
   "execution_count": 10,
   "id": "86000cad",
   "metadata": {},
   "outputs": [
    {
     "name": "stdout",
     "output_type": "stream",
     "text": [
      "13\n"
     ]
    }
   ],
   "source": [
    "print(\"Number of Features:\", len(wine_data.feature_names))\n"
   ]
  },
  {
   "cell_type": "code",
   "execution_count": 7,
   "id": "26ee4402",
   "metadata": {},
   "outputs": [],
   "source": [
    "#4\n",
    "from sklearn.datasets import load_wine\n",
    "wine_data = load_wine()\n",
    "from sklearn.model_selection import train_test_split\n",
    "X_train, X_test, y_train, y_test = train_test_split(\n",
    "    wine_data['data'], wine_data['target'], random_state=80)"
   ]
  },
  {
   "cell_type": "code",
   "execution_count": 8,
   "id": "9ee8e118",
   "metadata": {},
   "outputs": [
    {
     "name": "stdout",
     "output_type": "stream",
     "text": [
      "X_train shape: (133, 13)\n",
      "y_train shape: (133,)\n"
     ]
    }
   ],
   "source": [
    "print(\"X_train shape:\", X_train.shape)\n",
    "print(\"y_train shape:\", y_train.shape)"
   ]
  },
  {
   "cell_type": "code",
   "execution_count": 9,
   "id": "5f60e39c",
   "metadata": {},
   "outputs": [
    {
     "name": "stdout",
     "output_type": "stream",
     "text": [
      "X_test shape: (45, 13)\n",
      "y_test shape: (45,)\n"
     ]
    }
   ],
   "source": [
    "print(\"X_test shape:\", X_test.shape)\n",
    "print(\"y_test shape:\", y_test.shape)"
   ]
  },
  {
   "cell_type": "code",
   "execution_count": 11,
   "id": "3aa5d2c3",
   "metadata": {},
   "outputs": [],
   "source": [
    "from sklearn.neighbors import KNeighborsClassifier\n",
    "knn = KNeighborsClassifier(n_neighbors=1)"
   ]
  },
  {
   "cell_type": "code",
   "execution_count": 12,
   "id": "2061e0fc",
   "metadata": {},
   "outputs": [
    {
     "data": {
      "text/plain": [
       "KNeighborsClassifier(n_neighbors=1)"
      ]
     },
     "execution_count": 12,
     "metadata": {},
     "output_type": "execute_result"
    }
   ],
   "source": [
    "knn.fit(X_train, y_train)"
   ]
  },
  {
   "cell_type": "code",
   "execution_count": 19,
   "id": "ba440c33",
   "metadata": {},
   "outputs": [
    {
     "name": "stdout",
     "output_type": "stream",
     "text": [
      "X_new.shape: (1, 13)\n"
     ]
    }
   ],
   "source": [
    "X_new = np.array([[4, 3, 1, 0.2,5,0.4,8,6,5,5,11,15,0.5]])\n",
    "print(\"X_new.shape:\", X_new.shape)"
   ]
  },
  {
   "cell_type": "code",
   "execution_count": 20,
   "id": "ead4abb9",
   "metadata": {},
   "outputs": [
    {
     "name": "stdout",
     "output_type": "stream",
     "text": [
      "Prediction: [1]\n",
      "Predicted target name: ['class_1']\n"
     ]
    }
   ],
   "source": [
    "prediction = knn.predict(X_new)\n",
    "print(\"Prediction:\", prediction)\n",
    "print(\"Predicted target name:\",\n",
    "       wine_data['target_names'][prediction])"
   ]
  },
  {
   "cell_type": "code",
   "execution_count": 21,
   "id": "7f5cacc6",
   "metadata": {},
   "outputs": [
    {
     "name": "stdout",
     "output_type": "stream",
     "text": [
      "Test set predictions:\n",
      " [1 0 0 0 1 2 0 0 2 1 0 0 0 0 2 2 0 0 2 2 1 0 2 2 0 1 0 0 0 1 2 1 1 0 2 2 0\n",
      " 0 0 1 0 0 0 0 1]\n"
     ]
    }
   ],
   "source": [
    "y_pred = knn.predict(X_test)\n",
    "print(\"Test set predictions:\\n\", y_pred)"
   ]
  },
  {
   "cell_type": "code",
   "execution_count": 22,
   "id": "f5710ac2",
   "metadata": {},
   "outputs": [
    {
     "name": "stdout",
     "output_type": "stream",
     "text": [
      "Test set score: 0.82\n"
     ]
    }
   ],
   "source": [
    "print(\"Test set score: {:.2f}\".format(knn.score(X_test, y_test)))"
   ]
  },
  {
   "cell_type": "code",
   "execution_count": 26,
   "id": "41da1935",
   "metadata": {},
   "outputs": [
    {
     "name": "stdout",
     "output_type": "stream",
     "text": [
      "Test set score: 0.76\n"
     ]
    }
   ],
   "source": [
    "# Neighbor of 1\n",
    "X_train, X_test, y_train, y_test = train_test_split(\n",
    "    wine_data['data'], wine_data['target'], random_state=0)\n",
    "\n",
    "knn = KNeighborsClassifier(n_neighbors=1)\n",
    "knn.fit(X_train, y_train)\n",
    "\n",
    "print(\"Test set score: {:.2f}\".format(knn.score(X_test, y_test)))"
   ]
  },
  {
   "cell_type": "code",
   "execution_count": 28,
   "id": "5244a21b",
   "metadata": {},
   "outputs": [
    {
     "name": "stdout",
     "output_type": "stream",
     "text": [
      "Test set score: 0.73\n"
     ]
    }
   ],
   "source": [
    "# Neighbor of 3\n",
    "X_train, X_test, y_train, y_test = train_test_split(\n",
    "    wine_data['data'], wine_data['target'], random_state=0)\n",
    "\n",
    "knn = KNeighborsClassifier(n_neighbors=3)\n",
    "knn.fit(X_train, y_train)\n",
    "\n",
    "print(\"Test set score: {:.2f}\".format(knn.score(X_test, y_test)))"
   ]
  },
  {
   "cell_type": "code",
   "execution_count": 41,
   "id": "b2028a0f",
   "metadata": {},
   "outputs": [
    {
     "name": "stdout",
     "output_type": "stream",
     "text": [
      "Test set score: 0.78\n"
     ]
    }
   ],
   "source": [
    "# Neighbor of sqrt(n) + 3\n",
    "X_train, X_test, y_train, y_test = train_test_split(\n",
    "    wine_data['data'], wine_data['target'], random_state=0)\n",
    "\n",
    "knn = KNeighborsClassifier(n_neighbors=math.ceil(math.sqrt(13)+3))\n",
    "knn.fit(X_train, y_train)\n",
    "\n",
    "print(\"Test set score: {:.2f}\".format(knn.score(X_test, y_test)))"
   ]
  },
  {
   "cell_type": "code",
   "execution_count": 66,
   "id": "80565210",
   "metadata": {},
   "outputs": [
    {
     "data": {
      "text/plain": [
       "<matplotlib.legend.Legend at 0x260d89358b0>"
      ]
     },
     "execution_count": 66,
     "metadata": {},
     "output_type": "execute_result"
    },
    {
     "data": {
      "image/png": "[encoded data removed]",
      "text/plain": [
       "<Figure size 432x288 with 1 Axes>"
      ]
     },
     "metadata": {
      "needs_background": "light"
     },
     "output_type": "display_data"
    }
   ],
   "source": [
    "X_train, X_test, y_train, y_test = train_test_split(\n",
    "    wine_data.data, wine_data.target, stratify=wine_data.target, random_state=80)\n",
    "\n",
    "training_accuracy = []\n",
    "test_accuracy = []\n",
    "# try n_neighbors from 1 to sqrt(n)+3\n",
    "neighbors_settings = range(1, math.ceil(math.sqrt(len(X_train))+3))\n",
    "\n",
    "for n_neighbors in neighbors_settings:\n",
    "    # build the model\n",
    "    clf = KNeighborsClassifier(n_neighbors=n_neighbors)\n",
    "    clf.fit(X_train, y_train)\n",
    "    # record training set accuracy\n",
    "    training_accuracy.append(clf.score(X_train, y_train))\n",
    "    # record generalization accuracy\n",
    "    test_accuracy.append(clf.score(X_test, y_test))\n",
    "    \n",
    "plt.plot(neighbors_settings, training_accuracy, label=\"training accuracy\")\n",
    "plt.plot(neighbors_settings, test_accuracy, label=\"test accuracy\")\n",
    "plt.ylabel(\"Accuracy\")\n",
    "plt.xlabel(\"n_neighbors\")\n",
    "plt.legend()"
   ]
  },
  {
   "cell_type": "code",
   "execution_count": 68,
   "id": "ea6aa90d",
   "metadata": {},
   "outputs": [
    {
     "ename": "SyntaxError",
     "evalue": "invalid syntax (<ipython-input-68-5873b355d257>, line 2)",
     "output_type": "error",
     "traceback": [
      "\u001b[1;36m  File \u001b[1;32m\"<ipython-input-68-5873b355d257>\"\u001b[1;36m, line \u001b[1;32m2\u001b[0m\n\u001b[1;33m    class sklearn.model_selection.StratifiedKFold(n_splits=5,*,shuffle=False, random_state=None)\u001b[0m\n\u001b[1;37m                 ^\u001b[0m\n\u001b[1;31mSyntaxError\u001b[0m\u001b[1;31m:\u001b[0m invalid syntax\n"
     ]
    }
   ],
   "source": [
    "#5\n",
    "class sklearn.model_selection.StratifiedKFold(n_splits=5,*,shuffle=False, random_state=None)\n"
   ]
  }
 ],
 "metadata": {
  "kernelspec": {
   "display_name": "Python 3",
   "language": "python",
   "name": "python3"
  },
  "language_info": {
   "codemirror_mode": {
    "name": "ipython",
    "version": 3
   },
   "file_extension": ".py",
   "mimetype": "text/x-python",
   "name": "python",
   "nbconvert_exporter": "python",
   "pygments_lexer": "ipython3",
   "version": "3.8.8"
  }
 },
 "nbformat": 4,
 "nbformat_minor": 5
}
